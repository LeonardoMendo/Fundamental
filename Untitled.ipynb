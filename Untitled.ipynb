{
 "cells": [
  {
   "cell_type": "code",
   "execution_count": 1,
   "metadata": {},
   "outputs": [],
   "source": [
    "import requests\n",
    "import json\n",
    "import pandas as pd\n",
    "from pandas.io.json import json_normalize\n",
    "import numpy as np"
   ]
  },
  {
   "cell_type": "code",
   "execution_count": 26,
   "metadata": {
    "scrolled": false
   },
   "outputs": [],
   "source": [
    "#Indicadores Fundamentalistas\n",
    "url = 'http://investimentos.notasdovitor.top:5000/'\n",
    "r = requests.get(url)\n",
    "indicadores = r.json()\n",
    "\n",
    "df_ind = pd.DataFrame.from_dict(indicadores, orient='columns')\n",
    "df_ind = df_ind.transpose().reset_index()"
   ]
  },
  {
   "cell_type": "code",
   "execution_count": 27,
   "metadata": {},
   "outputs": [],
   "source": [
    "#Preços e informações\n",
    "url = 'https://mfinance.com.br/api/v1/stocks/'\n",
    "r = requests.get(url)\n",
    "precos = r.json()\n",
    "\n",
    "df_prec = pd.DataFrame.from_dict(pd.json_normalize(precos,'stocks'), orient='columns')\n",
    "df_2 = df_ind.merge(df_prec, left_on='index',right_on='symbol').drop(columns=['symbol'])"
   ]
  },
  {
   "cell_type": "code",
   "execution_count": 15,
   "metadata": {},
   "outputs": [
    {
     "data": {
      "text/plain": [
       "Index(['index', 'Cotacao', 'Cresc.5anos', 'DY', 'Div.Brut/Pat.', 'EV/EBIT',\n",
       "       'EV/EBITDA', 'Liq.2meses', 'Liq.Corr.', 'Mrg.Ebit', 'Mrg.Liq.', 'P/ACL',\n",
       "       'P/Ativo', 'P/Cap.Giro', 'P/EBIT', 'P/L', 'P/VP', 'PSR', 'Pat.Liq',\n",
       "       'ROE', 'ROIC', 'change', 'closingPrice', 'eps', 'high', 'lastPrice',\n",
       "       'lastYearHigh', 'lastYearLow', 'low', 'marketCap', 'name', 'pe',\n",
       "       'priceOpen', 'shares', 'volume', 'volumeAvg', 'sector', 'subSector',\n",
       "       'segment'],\n",
       "      dtype='object')"
      ]
     },
     "execution_count": 15,
     "metadata": {},
     "output_type": "execute_result"
    }
   ],
   "source": [
    "df_2.columns"
   ]
  },
  {
   "cell_type": "code",
   "execution_count": 44,
   "metadata": {},
   "outputs": [
    {
     "data": {
      "text/html": [
       "<div>\n",
       "<style scoped>\n",
       "    .dataframe tbody tr th:only-of-type {\n",
       "        vertical-align: middle;\n",
       "    }\n",
       "\n",
       "    .dataframe tbody tr th {\n",
       "        vertical-align: top;\n",
       "    }\n",
       "\n",
       "    .dataframe thead th {\n",
       "        text-align: right;\n",
       "    }\n",
       "</style>\n",
       "<table border=\"1\" class=\"dataframe\">\n",
       "  <thead>\n",
       "    <tr style=\"text-align: right;\">\n",
       "      <th></th>\n",
       "      <th>index</th>\n",
       "      <th>lastPrice</th>\n",
       "      <th>P/L</th>\n",
       "      <th>P/VP</th>\n",
       "    </tr>\n",
       "  </thead>\n",
       "  <tbody>\n",
       "    <tr>\n",
       "      <th>152</th>\n",
       "      <td>CTNM4</td>\n",
       "      <td>6.87</td>\n",
       "      <td>-1.98</td>\n",
       "      <td>0.25</td>\n",
       "    </tr>\n",
       "    <tr>\n",
       "      <th>299</th>\n",
       "      <td>MTIG4</td>\n",
       "      <td>54.51</td>\n",
       "      <td>4.62</td>\n",
       "      <td>0.34</td>\n",
       "    </tr>\n",
       "    <tr>\n",
       "      <th>72</th>\n",
       "      <td>BRGE12</td>\n",
       "      <td>6.67</td>\n",
       "      <td>14.53</td>\n",
       "      <td>0.40</td>\n",
       "    </tr>\n",
       "    <tr>\n",
       "      <th>221</th>\n",
       "      <td>GPIV33</td>\n",
       "      <td>5.62</td>\n",
       "      <td>7.89</td>\n",
       "      <td>0.42</td>\n",
       "    </tr>\n",
       "    <tr>\n",
       "      <th>151</th>\n",
       "      <td>CTNM3</td>\n",
       "      <td>12.45</td>\n",
       "      <td>-3.62</td>\n",
       "      <td>0.46</td>\n",
       "    </tr>\n",
       "    <tr>\n",
       "      <th>...</th>\n",
       "      <td>...</td>\n",
       "      <td>...</td>\n",
       "      <td>...</td>\n",
       "      <td>...</td>\n",
       "    </tr>\n",
       "    <tr>\n",
       "      <th>81</th>\n",
       "      <td>BRKM6</td>\n",
       "      <td>44.00</td>\n",
       "      <td>-63.95</td>\n",
       "      <td>81.54</td>\n",
       "    </tr>\n",
       "    <tr>\n",
       "      <th>79</th>\n",
       "      <td>BRKM3</td>\n",
       "      <td>58.37</td>\n",
       "      <td>-83.14</td>\n",
       "      <td>106.00</td>\n",
       "    </tr>\n",
       "    <tr>\n",
       "      <th>80</th>\n",
       "      <td>BRKM5</td>\n",
       "      <td>58.82</td>\n",
       "      <td>-86.22</td>\n",
       "      <td>109.93</td>\n",
       "    </tr>\n",
       "    <tr>\n",
       "      <th>405</th>\n",
       "      <td>TCNO4</td>\n",
       "      <td>4.60</td>\n",
       "      <td>-203.39</td>\n",
       "      <td>281.05</td>\n",
       "    </tr>\n",
       "    <tr>\n",
       "      <th>404</th>\n",
       "      <td>TCNO3</td>\n",
       "      <td>5.75</td>\n",
       "      <td>-244.77</td>\n",
       "      <td>338.22</td>\n",
       "    </tr>\n",
       "  </tbody>\n",
       "</table>\n",
       "<p>393 rows × 4 columns</p>\n",
       "</div>"
      ],
      "text/plain": [
       "      index  lastPrice     P/L    P/VP\n",
       "152   CTNM4       6.87   -1.98    0.25\n",
       "299   MTIG4      54.51    4.62    0.34\n",
       "72   BRGE12       6.67   14.53    0.40\n",
       "221  GPIV33       5.62    7.89    0.42\n",
       "151   CTNM3      12.45   -3.62    0.46\n",
       "..      ...        ...     ...     ...\n",
       "81    BRKM6      44.00  -63.95   81.54\n",
       "79    BRKM3      58.37  -83.14  106.00\n",
       "80    BRKM5      58.82  -86.22  109.93\n",
       "405   TCNO4       4.60 -203.39  281.05\n",
       "404   TCNO3       5.75 -244.77  338.22\n",
       "\n",
       "[393 rows x 4 columns]"
      ]
     },
     "execution_count": 44,
     "metadata": {},
     "output_type": "execute_result"
    }
   ],
   "source": [
    "df_2[['index','lastPrice','P/L','P/VP']].sort_values('P/L')\n",
    "df_2.loc[(df_2['P/VP'] > 0)][['index','lastPrice','P/L','P/VP']].sort_values('P/VP')"
   ]
  },
  {
   "cell_type": "code",
   "execution_count": 39,
   "metadata": {},
   "outputs": [],
   "source": [
    "#Grava outuput em arquivo CSV\n",
    "df_2.to_csv('output.csv')"
   ]
  }
 ],
 "metadata": {
  "kernelspec": {
   "display_name": "Python 3",
   "language": "python",
   "name": "python3"
  },
  "language_info": {
   "codemirror_mode": {
    "name": "ipython",
    "version": 3
   },
   "file_extension": ".py",
   "mimetype": "text/x-python",
   "name": "python",
   "nbconvert_exporter": "python",
   "pygments_lexer": "ipython3",
   "version": "3.7.4"
  }
 },
 "nbformat": 4,
 "nbformat_minor": 2
}
